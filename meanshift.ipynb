{
 "cells": [
  {
   "cell_type": "code",
   "execution_count": 52,
   "id": "32f0b0df",
   "metadata": {},
   "outputs": [],
   "source": [
    "import matplotlib.pyplot as plt\n",
    "from matplotlib import style\n",
    "import numpy as np\n",
    "from sklearn.cluster import KMeans\n",
    "style.use('ggplot')\n",
    "from sklearn.datasets import make_blobs\n",
    "import random\n",
    "\n"
   ]
  },
  {
   "cell_type": "code",
   "execution_count": 55,
   "id": "3a21acec",
   "metadata": {},
   "outputs": [],
   "source": [
    "#X=np.array([[1,2],[1.5,1.8],[5,8],[8,8],[1,0.6],[9,11],[8,2],[9,2],[10,3]])\n",
    "#plt.scatter(X[:,0],X[:,1],s=150)\n",
    "#plt.show()\n",
    "centers=random.randrange(2,8)\n",
    "colors=10*[\"g\",\"r\",\"c\",\"b\",\"k\"]\n",
    "X,y=make_blobs(n_samples=40,centers=centers,n_features=3)"
   ]
  },
  {
   "cell_type": "code",
   "execution_count": 56,
   "id": "c8f3d17f",
   "metadata": {
    "scrolled": true
   },
   "outputs": [
    {
     "data": {
      "image/png": "[encoded data removed]",
      "text/plain": [
       "<Figure size 640x480 with 1 Axes>"
      ]
     },
     "metadata": {},
     "output_type": "display_data"
    }
   ],
   "source": [
    "class Mean_Shift:\n",
    "    def __init__(self,radius=None,radius_norm_step=100):\n",
    "        self.radius=radius\n",
    "        self.radius_norm_step=radius_norm_step\n",
    "        \n",
    "    def fit(self,data):\n",
    "        \n",
    "        if self.radius==None:\n",
    "            all_data_centroid=np.average(data,axis=0)\n",
    "            all_data_norm=np.linalg.norm(all_data_centroid)\n",
    "            self.radius=all_data_norm/self.radius_norm_step\n",
    "            \n",
    "        \n",
    "        centroids={}\n",
    "        for i in range(len(data)):\n",
    "            centroids[i]=data[i]\n",
    "        while True:\n",
    "            new_centroids=[]\n",
    "            for i in centroids:\n",
    "                in_bandwidth=[]\n",
    "                centroid=centroids[i]\n",
    "                \n",
    "                weights=[i for i in range(self.radius_norm_step)][::-1]\n",
    "                \n",
    "                \n",
    "                for featureset in data:\n",
    "                    distance=np.linalg.norm(featureset-centroid)\n",
    "                    if distance==0:\n",
    "                        distance=0.0000000001\n",
    "                    weight_index=int(distance/self.radius)\n",
    "                    if weight_index>self.radius_norm_step-1:\n",
    "                        weight_index=self.radius_norm_step-1\n",
    "                    to_add=(weights[weight_index]**2)*[featureset]\n",
    "                    in_bandwidth+=to_add\n",
    "                    \n",
    "                        \n",
    "                   \n",
    "                new_centroid=np.average(in_bandwidth,axis=0)\n",
    "                new_centroids.append(tuple(new_centroid))\n",
    "            uniques=sorted(list(set(new_centroids)))\n",
    "            \n",
    "            to_pop=[]\n",
    "            \n",
    "            for i in uniques:\n",
    "                for ii in uniques:\n",
    "                    if i==ii:\n",
    "                        pass\n",
    "                    elif np.linalg.norm(np.array(i)-np.array(ii))<=self.radius:\n",
    "                        to_pop.append(ii)\n",
    "                        break\n",
    "            for i in to_pop:\n",
    "                try:\n",
    "                    uniques.remove(i)\n",
    "                except:\n",
    "                    pass\n",
    "            \n",
    "            prev_centroids=dict(centroids)\n",
    "            centroids={}\n",
    "            for i in range(len(uniques)):\n",
    "                centroids[i]=np.array(uniques[i])\n",
    "            optimized=True\n",
    "            for i in centroids:\n",
    "                if not np.array_equal(centroids[i],prev_centroids[i]):\n",
    "                    optimized=False\n",
    "                if not optimized:\n",
    "                    break\n",
    "            if optimized:\n",
    "                break\n",
    "        self.centroids=centroids\n",
    "        \n",
    "        self.classifications={}\n",
    "        for i in range(len(self.centroids)):\n",
    "            self.classifications[i]=[]\n",
    "        for featureset in data:\n",
    "            distances=[np.linalg.norm(featureset-self.centroids[centroid]) for centroid in self.centroids]\n",
    "            classification=distances.index(min(distances))\n",
    "            self.classifications[classification].append(featureset)\n",
    "            \n",
    "            \n",
    "    def predict(self,data):\n",
    "        distances=[np.linalg.norm(featureset-self.centroids[centroid] for centroid in self.centroids)]\n",
    "        classification=distances.index(min(distances))\n",
    "        \n",
    "        return classification\n",
    "\n",
    "clf=Mean_Shift()\n",
    "clf.fit(X)\n",
    "centroids=clf.centroids\n",
    "\n",
    "for classification in clf.classifications:\n",
    "    color=colors[classification]\n",
    "    for featureset in clf.classifications[classification]:\n",
    "        plt.scatter(featureset[0],featureset[1],c=color,marker='x',s=150,linewidth=5)\n",
    "        \n",
    "    \n",
    "\n",
    "for c in centroids:\n",
    "    plt.scatter(centroids[c][0],centroids[c][1],c='k',marker='*',s=150)\n",
    "plt.show()\n",
    "                \n",
    "                "
   ]
  },
  {
   "cell_type": "code",
   "execution_count": 57,
   "id": "34ddded0",
   "metadata": {},
   "outputs": [
    {
     "data": {
      "text/plain": [
       "5"
      ]
     },
     "execution_count": 57,
     "metadata": {},
     "output_type": "execute_result"
    }
   ],
   "source": [
    "centers"
   ]
  },
  {
   "cell_type": "code",
   "execution_count": null,
   "id": "dcd142e3",
   "metadata": {},
   "outputs": [],
   "source": []
  }
 ],
 "metadata": {
  "kernelspec": {
   "display_name": "Python 3 (ipykernel)",
   "language": "python",
   "name": "python3"
  },
  "language_info": {
   "codemirror_mode": {
    "name": "ipython",
    "version": 3
   },
   "file_extension": ".py",
   "mimetype": "text/x-python",
   "name": "python",
   "nbconvert_exporter": "python",
   "pygments_lexer": "ipython3",
   "version": "3.9.13"
  }
 },
 "nbformat": 4,
 "nbformat_minor": 5
}
