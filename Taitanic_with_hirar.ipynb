{
 "cells": [
  {
   "cell_type": "code",
   "execution_count": 5,
   "id": "b6622f39",
   "metadata": {},
   "outputs": [],
   "source": [
    "import matplotlib.pyplot as plt\n",
    "from matplotlib import style\n",
    "style.use('ggplot')\n",
    "import numpy as np\n",
    "from sklearn.cluster import MeanShift\n",
    "from sklearn import preprocessing\n",
    "import pandas as pd\n"
   ]
  },
  {
   "cell_type": "code",
   "execution_count": 13,
   "id": "15a1d7f0",
   "metadata": {},
   "outputs": [],
   "source": [
    "df=pd.read_excel('titanic.xls')\n",
    "original_df=pd.DataFrame.copy(df)\n",
    "\n",
    "df.drop(['name','body'],axis=1,inplace=True)\n",
    "df._convert(numeric=True)\n",
    "df.fillna(0,inplace=True)"
   ]
  },
  {
   "cell_type": "code",
   "execution_count": 14,
   "id": "50d166af",
   "metadata": {},
   "outputs": [],
   "source": [
    "def handle_non_numeric_data(df):\n",
    "    columns=df.columns.values\n",
    "    for column in columns:\n",
    "        text_digit_vals={}\n",
    "        def convert_to_int(val):\n",
    "            return text_digit_vals[val]\n",
    "        if df[column].dtype!=np.int64 and df[column].dtype!=np.float64:\n",
    "            column_contents=df[column].values.tolist()\n",
    "            unique_elements=set(column_contents)\n",
    "            x=0\n",
    "            for unique in unique_elements:\n",
    "                if unique not in text_digit_vals:\n",
    "                    text_digit_vals[unique]=x\n",
    "                    x+=1\n",
    "            df[column]=list(map(convert_to_int,df[column])) \n",
    "    return df\n",
    "df=handle_non_numeric_data(df)\n"
   ]
  },
  {
   "cell_type": "code",
   "execution_count": 15,
   "id": "112abbc7",
   "metadata": {},
   "outputs": [
    {
     "name": "stderr",
     "output_type": "stream",
     "text": [
      "C:\\Users\\birha\\AppData\\Local\\Temp\\ipykernel_11232\\173838051.py:1: FutureWarning: In a future version of pandas all arguments of DataFrame.drop except for the argument 'labels' will be keyword-only.\n",
      "  df.drop(['ticket','sex','boat'],1, inplace=True)\n"
     ]
    },
    {
     "data": {
      "text/html": [
       "<style>#sk-container-id-3 {color: black;background-color: white;}#sk-container-id-3 pre{padding: 0;}#sk-container-id-3 div.sk-toggleable {background-color: white;}#sk-container-id-3 label.sk-toggleable__label {cursor: pointer;display: block;width: 100%;margin-bottom: 0;padding: 0.3em;box-sizing: border-box;text-align: center;}#sk-container-id-3 label.sk-toggleable__label-arrow:before {content: \"▸\";float: left;margin-right: 0.25em;color: #696969;}#sk-container-id-3 label.sk-toggleable__label-arrow:hover:before {color: black;}#sk-container-id-3 div.sk-estimator:hover label.sk-toggleable__label-arrow:before {color: black;}#sk-container-id-3 div.sk-toggleable__content {max-height: 0;max-width: 0;overflow: hidden;text-align: left;background-color: #f0f8ff;}#sk-container-id-3 div.sk-toggleable__content pre {margin: 0.2em;color: black;border-radius: 0.25em;background-color: #f0f8ff;}#sk-container-id-3 input.sk-toggleable__control:checked~div.sk-toggleable__content {max-height: 200px;max-width: 100%;overflow: auto;}#sk-container-id-3 input.sk-toggleable__control:checked~label.sk-toggleable__label-arrow:before {content: \"▾\";}#sk-container-id-3 div.sk-estimator input.sk-toggleable__control:checked~label.sk-toggleable__label {background-color: #d4ebff;}#sk-container-id-3 div.sk-label input.sk-toggleable__control:checked~label.sk-toggleable__label {background-color: #d4ebff;}#sk-container-id-3 input.sk-hidden--visually {border: 0;clip: rect(1px 1px 1px 1px);clip: rect(1px, 1px, 1px, 1px);height: 1px;margin: -1px;overflow: hidden;padding: 0;position: absolute;width: 1px;}#sk-container-id-3 div.sk-estimator {font-family: monospace;background-color: #f0f8ff;border: 1px dotted black;border-radius: 0.25em;box-sizing: border-box;margin-bottom: 0.5em;}#sk-container-id-3 div.sk-estimator:hover {background-color: #d4ebff;}#sk-container-id-3 div.sk-parallel-item::after {content: \"\";width: 100%;border-bottom: 1px solid gray;flex-grow: 1;}#sk-container-id-3 div.sk-label:hover label.sk-toggleable__label {background-color: #d4ebff;}#sk-container-id-3 div.sk-serial::before {content: \"\";position: absolute;border-left: 1px solid gray;box-sizing: border-box;top: 0;bottom: 0;left: 50%;z-index: 0;}#sk-container-id-3 div.sk-serial {display: flex;flex-direction: column;align-items: center;background-color: white;padding-right: 0.2em;padding-left: 0.2em;position: relative;}#sk-container-id-3 div.sk-item {position: relative;z-index: 1;}#sk-container-id-3 div.sk-parallel {display: flex;align-items: stretch;justify-content: center;background-color: white;position: relative;}#sk-container-id-3 div.sk-item::before, #sk-container-id-3 div.sk-parallel-item::before {content: \"\";position: absolute;border-left: 1px solid gray;box-sizing: border-box;top: 0;bottom: 0;left: 50%;z-index: -1;}#sk-container-id-3 div.sk-parallel-item {display: flex;flex-direction: column;z-index: 1;position: relative;background-color: white;}#sk-container-id-3 div.sk-parallel-item:first-child::after {align-self: flex-end;width: 50%;}#sk-container-id-3 div.sk-parallel-item:last-child::after {align-self: flex-start;width: 50%;}#sk-container-id-3 div.sk-parallel-item:only-child::after {width: 0;}#sk-container-id-3 div.sk-dashed-wrapped {border: 1px dashed gray;margin: 0 0.4em 0.5em 0.4em;box-sizing: border-box;padding-bottom: 0.4em;background-color: white;}#sk-container-id-3 div.sk-label label {font-family: monospace;font-weight: bold;display: inline-block;line-height: 1.2em;}#sk-container-id-3 div.sk-label-container {text-align: center;}#sk-container-id-3 div.sk-container {/* jupyter's `normalize.less` sets `[hidden] { display: none; }` but bootstrap.min.css set `[hidden] { display: none !important; }` so we also need the `!important` here to be able to override the default hidden behavior on the sphinx rendered scikit-learn.org. See: https://github.com/scikit-learn/scikit-learn/issues/21755 */display: inline-block !important;position: relative;}#sk-container-id-3 div.sk-text-repr-fallback {display: none;}</style><div id=\"sk-container-id-3\" class=\"sk-top-container\"><div class=\"sk-text-repr-fallback\"><pre>MeanShift()</pre><b>In a Jupyter environment, please rerun this cell to show the HTML representation or trust the notebook. <br />On GitHub, the HTML representation is unable to render, please try loading this page with nbviewer.org.</b></div><div class=\"sk-container\" hidden><div class=\"sk-item\"><div class=\"sk-estimator sk-toggleable\"><input class=\"sk-toggleable__control sk-hidden--visually\" id=\"sk-estimator-id-3\" type=\"checkbox\" checked><label for=\"sk-estimator-id-3\" class=\"sk-toggleable__label sk-toggleable__label-arrow\">MeanShift</label><div class=\"sk-toggleable__content\"><pre>MeanShift()</pre></div></div></div></div></div>"
      ],
      "text/plain": [
       "MeanShift()"
      ]
     },
     "execution_count": 15,
     "metadata": {},
     "output_type": "execute_result"
    }
   ],
   "source": [
    "df.drop(['ticket','sex','boat'],1, inplace=True)\n",
    "X=np.array(df.drop(['survived'],axis=1).astype(float)) \n",
    "X=preprocessing.scale(X)\n",
    "y=np.array(df['survived'])\n",
    "clf=MeanShift()\n",
    "clf.fit(X)"
   ]
  },
  {
   "cell_type": "code",
   "execution_count": 20,
   "id": "4c388c17",
   "metadata": {},
   "outputs": [
    {
     "name": "stderr",
     "output_type": "stream",
     "text": [
      "C:\\Users\\birha\\AppData\\Local\\Temp\\ipykernel_11232\\2199069466.py:5: SettingWithCopyWarning: \n",
      "A value is trying to be set on a copy of a slice from a DataFrame\n",
      "\n",
      "See the caveats in the documentation: https://pandas.pydata.org/pandas-docs/stable/user_guide/indexing.html#returning-a-view-versus-a-copy\n",
      "  original_df['cluster_group'].iloc[i]=labels[i]\n"
     ]
    },
    {
     "name": "stdout",
     "output_type": "stream",
     "text": [
      "{0: 0.36611570247933883, 1: 0.72, 2: 1.0, 3: 0.41935483870967744, 4: 0.1, 5: 0.75}\n"
     ]
    }
   ],
   "source": [
    "labels=clf.labels_\n",
    "cluster_centers=clf.cluster_centers_\n",
    "original_df['cluster_group']=np.nan\n",
    "for i in range(len(X)):\n",
    "    original_df['cluster_group'].iloc[i]=labels[i]\n",
    "n_clusters_=len(np.unique(labels))\n",
    "survival_rates={}\n",
    "for i in range(n_clusters_):\n",
    "    temp_df=orginal_df[(original_df['cluster_group']==float(i))]\n",
    "    survival_cluster=temp_df[(temp_df['survived']==1)]\n",
    "    survival_rate=len(survival_cluster)/len(temp_df)\n",
    "    survival_rates[i]=survival_rate\n",
    "print(survival_rates)"
   ]
  },
  {
   "cell_type": "code",
   "execution_count": 23,
   "id": "3db4cb16",
   "metadata": {},
   "outputs": [
    {
     "name": "stdout",
     "output_type": "stream",
     "text": [
      "       pclass   survived        age      sibsp      parch        fare  \\\n",
      "count    50.0  50.000000  47.000000  50.000000  50.000000   50.000000   \n",
      "mean      1.0   0.720000  38.053191   0.500000   0.720000  188.054080   \n",
      "std       0.0   0.453557  14.521436   0.614452   0.881557   54.634456   \n",
      "min       1.0   0.000000   6.000000   0.000000   0.000000   83.158300   \n",
      "25%       1.0   0.000000  28.000000   0.000000   0.000000  134.783325   \n",
      "50%       1.0   1.000000  39.000000   0.000000   0.000000  211.337500   \n",
      "75%       1.0   1.000000  48.500000   1.000000   1.000000  227.525000   \n",
      "max       1.0   1.000000  67.000000   2.000000   3.000000  262.375000   \n",
      "\n",
      "             body  cluster_group  \n",
      "count    4.000000           50.0  \n",
      "mean    96.750000            1.0  \n",
      "std     36.782016            0.0  \n",
      "min     45.000000            1.0  \n",
      "25%     83.250000            1.0  \n",
      "50%    109.000000            1.0  \n",
      "75%    122.500000            1.0  \n",
      "max    124.000000            1.0  \n"
     ]
    }
   ],
   "source": [
    "print(original_df[(original_df['cluster_group']==1)].describe())"
   ]
  },
  {
   "cell_type": "code",
   "execution_count": 24,
   "id": "86c0b422",
   "metadata": {},
   "outputs": [
    {
     "name": "stdout",
     "output_type": "stream",
     "text": [
      "            pclass     survived         age        sibsp        parch  \\\n",
      "count  1210.000000  1210.000000  960.000000  1210.000000  1210.000000   \n",
      "mean      2.369421     0.366116   29.288281     0.427273     0.287603   \n",
      "std       0.796949     0.481941   14.192805     0.840507     0.640457   \n",
      "min       1.000000     0.000000    0.166700     0.000000     0.000000   \n",
      "25%       2.000000     0.000000   21.000000     0.000000     0.000000   \n",
      "50%       3.000000     0.000000   28.000000     0.000000     0.000000   \n",
      "75%       3.000000     1.000000   37.000000     1.000000     0.000000   \n",
      "max       3.000000     1.000000   80.000000     5.000000     4.000000   \n",
      "\n",
      "              fare        body  cluster_group  \n",
      "count  1209.000000  110.000000         1210.0  \n",
      "mean     22.372198  162.581818            0.0  \n",
      "std      22.202288   98.417700            0.0  \n",
      "min       0.000000    1.000000            0.0  \n",
      "25%       7.895800   72.750000            0.0  \n",
      "50%      13.000000  167.500000            0.0  \n",
      "75%      26.550000  257.500000            0.0  \n",
      "max     164.866700  328.000000            0.0  \n"
     ]
    }
   ],
   "source": [
    "print(original_df[(original_df['cluster_group']==0)].describe())"
   ]
  },
  {
   "cell_type": "code",
   "execution_count": 26,
   "id": "5bdce3d5",
   "metadata": {},
   "outputs": [
    {
     "name": "stdout",
     "output_type": "stream",
     "text": [
      "       pclass  survived        age  sibsp    parch      fare  body  \\\n",
      "count     4.0       4.0   4.000000    4.0  4.00000    4.0000   0.0   \n",
      "mean      1.0       1.0  41.000000    0.0  0.50000  512.3292   NaN   \n",
      "std       0.0       0.0  11.343133    0.0  0.57735    0.0000   NaN   \n",
      "min       1.0       1.0  35.000000    0.0  0.00000  512.3292   NaN   \n",
      "25%       1.0       1.0  35.000000    0.0  0.00000  512.3292   NaN   \n",
      "50%       1.0       1.0  35.500000    0.0  0.50000  512.3292   NaN   \n",
      "75%       1.0       1.0  41.500000    0.0  1.00000  512.3292   NaN   \n",
      "max       1.0       1.0  58.000000    0.0  1.00000  512.3292   NaN   \n",
      "\n",
      "       cluster_group  \n",
      "count            4.0  \n",
      "mean             2.0  \n",
      "std              0.0  \n",
      "min              2.0  \n",
      "25%              2.0  \n",
      "50%              2.0  \n",
      "75%              2.0  \n",
      "max              2.0  \n"
     ]
    }
   ],
   "source": [
    "print(original_df[(original_df['cluster_group']==2)].describe())"
   ]
  },
  {
   "cell_type": "code",
   "execution_count": 27,
   "id": "0b0cfdb5",
   "metadata": {},
   "outputs": [
    {
     "name": "stdout",
     "output_type": "stream",
     "text": [
      "          pclass   survived        age      sibsp      parch        fare  \\\n",
      "count  31.000000  31.000000  23.000000  31.000000  31.000000   31.000000   \n",
      "mean    1.580645   0.419355  27.018117   3.258065   1.516129  124.542610   \n",
      "std     0.922829   0.501610  14.822558   3.161938   0.811212   62.281897   \n",
      "min     1.000000   0.000000   0.916700   0.000000   0.000000   52.000000   \n",
      "25%     1.000000   0.000000  17.500000   1.000000   1.000000   69.550000   \n",
      "50%     1.000000   0.000000  26.000000   1.000000   2.000000  108.900000   \n",
      "75%     3.000000   1.000000  36.000000   8.000000   2.000000  151.550000   \n",
      "max     3.000000   1.000000  55.000000   8.000000   2.000000  263.000000   \n",
      "\n",
      "             body  cluster_group  \n",
      "count    5.000000           31.0  \n",
      "mean   143.600000            3.0  \n",
      "std     99.135261            0.0  \n",
      "min     62.000000            3.0  \n",
      "25%     67.000000            3.0  \n",
      "50%    135.000000            3.0  \n",
      "75%    147.000000            3.0  \n",
      "max    307.000000            3.0  \n"
     ]
    }
   ],
   "source": [
    "print(original_df[(original_df['cluster_group']==3)].describe())"
   ]
  },
  {
   "cell_type": "code",
   "execution_count": 28,
   "id": "45958196",
   "metadata": {},
   "outputs": [
    {
     "name": "stdout",
     "output_type": "stream",
     "text": [
      "       pclass   survived        age      sibsp      parch       fare  \\\n",
      "count    10.0  10.000000   8.000000  10.000000  10.000000  10.000000   \n",
      "mean      3.0   0.100000  39.875000   0.800000   6.000000  42.703750   \n",
      "std       0.0   0.316228   1.552648   0.421637   1.632993  15.590194   \n",
      "min       3.0   0.000000  38.000000   0.000000   5.000000  29.125000   \n",
      "25%       3.0   0.000000  39.000000   1.000000   5.000000  31.303125   \n",
      "50%       3.0   0.000000  39.500000   1.000000   5.000000  35.537500   \n",
      "75%       3.0   0.000000  40.250000   1.000000   6.000000  46.900000   \n",
      "max       3.0   1.000000  43.000000   1.000000   9.000000  69.550000   \n",
      "\n",
      "             body  cluster_group  \n",
      "count    2.000000           10.0  \n",
      "mean   234.500000            4.0  \n",
      "std    130.814755            0.0  \n",
      "min    142.000000            4.0  \n",
      "25%    188.250000            4.0  \n",
      "50%    234.500000            4.0  \n",
      "75%    280.750000            4.0  \n",
      "max    327.000000            4.0  \n"
     ]
    }
   ],
   "source": [
    "print(original_df[(original_df['cluster_group']==4)].describe())"
   ]
  },
  {
   "cell_type": "code",
   "execution_count": 29,
   "id": "b675c797",
   "metadata": {},
   "outputs": [
    {
     "name": "stdout",
     "output_type": "stream",
     "text": [
      "       pclass  survived   age    sibsp  parch        fare  body  cluster_group\n",
      "count     4.0      4.00   4.0  4.00000   4.00    4.000000   0.0            4.0\n",
      "mean      1.0      0.75  61.5  0.50000   2.75  190.655200   NaN            5.0\n",
      "std       0.0      0.50   3.0  0.57735   1.50   88.329724   NaN            0.0\n",
      "min       1.0      0.00  58.0  0.00000   1.00   83.158300   NaN            5.0\n",
      "25%       1.0      0.75  59.5  0.00000   1.75  135.886450   NaN            5.0\n",
      "50%       1.0      1.00  62.0  0.50000   3.00  208.231250   NaN            5.0\n",
      "75%       1.0      1.00  64.0  1.00000   4.00  263.000000   NaN            5.0\n",
      "max       1.0      1.00  64.0  1.00000   4.00  263.000000   NaN            5.0\n"
     ]
    }
   ],
   "source": [
    "print(original_df[(original_df['cluster_group']==5)].describe())"
   ]
  }
 ],
 "metadata": {
  "kernelspec": {
   "display_name": "Python 3 (ipykernel)",
   "language": "python",
   "name": "python3"
  },
  "language_info": {
   "codemirror_mode": {
    "name": "ipython",
    "version": 3
   },
   "file_extension": ".py",
   "mimetype": "text/x-python",
   "name": "python",
   "nbconvert_exporter": "python",
   "pygments_lexer": "ipython3",
   "version": "3.9.13"
  }
 },
 "nbformat": 4,
 "nbformat_minor": 5
}
