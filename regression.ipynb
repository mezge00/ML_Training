{
 "cells": [
  {
   "cell_type": "code",
   "execution_count": 13,
   "id": "3356b496",
   "metadata": {},
   "outputs": [],
   "source": [
    "import pandas as pd \n",
    "import quandl\n",
    "import math"
   ]
  },
  {
   "cell_type": "code",
   "execution_count": 6,
   "id": "f26437e6",
   "metadata": {},
   "outputs": [],
   "source": [
    "df=quandl.get('WIKI/GOOGL')"
   ]
  },
  {
   "cell_type": "code",
   "execution_count": 7,
   "id": "c1a551b1",
   "metadata": {},
   "outputs": [],
   "source": [
    "df=df[['Adj. Open','Adj. High','Adj. Low','Adj. Close','Adj. Volume',]]\n",
    "df['HL_PCT']=(df['Adj. High']-df['Adj. Close'])/df['Adj. Close']*100\n",
    "df['PCT_change']=(df['Adj. Close']-df['Adj. Open'])/df['Adj. Open']*100"
   ]
  },
  {
   "cell_type": "code",
   "execution_count": 8,
   "id": "ed6e28aa",
   "metadata": {},
   "outputs": [],
   "source": [
    "df=df[['Adj. Close','HL_PCT','PCT_change','Adj. Volume']]"
   ]
  },
  {
   "cell_type": "code",
   "execution_count": 31,
   "id": "335da72a",
   "metadata": {},
   "outputs": [],
   "source": [
    "forcast_column='Adj. Close'\n",
    "df.fillna(-9999,inplace=True)\n",
    "forcast_out=int(math.ceil(0.01*len(df)))\n",
    "df['label']=df[forcast_column].shift(-forcast_out)\n",
    "df.dropna(inplace=True)"
   ]
  },
  {
   "cell_type": "code",
   "execution_count": 32,
   "id": "4832d422",
   "metadata": {},
   "outputs": [
    {
     "name": "stdout",
     "output_type": "stream",
     "text": [
      "            Adj. Close    HL_PCT  PCT_change  Adj. Volume   label\n",
      "Date                                                             \n",
      "2016-06-27      681.14  0.320786   -0.197805    2919486.0  807.48\n",
      "2016-06-28      691.26  0.214087   -0.015910    1912280.0  808.49\n",
      "2016-06-29      695.19  0.619974    0.133956    2156218.0  808.20\n",
      "2016-06-30      703.53  0.034114    0.842829    2112513.0  807.05\n",
      "2016-07-01      710.25  0.321014    0.730393    1549160.0  805.96\n"
     ]
    }
   ],
   "source": [
    "print(df.tail())"
   ]
  },
  {
   "cell_type": "code",
   "execution_count": null,
   "id": "f37bbb71",
   "metadata": {},
   "outputs": [],
   "source": []
  }
 ],
 "metadata": {
  "kernelspec": {
   "display_name": "Python 3 (ipykernel)",
   "language": "python",
   "name": "python3"
  },
  "language_info": {
   "codemirror_mode": {
    "name": "ipython",
    "version": 3
   },
   "file_extension": ".py",
   "mimetype": "text/x-python",
   "name": "python",
   "nbconvert_exporter": "python",
   "pygments_lexer": "ipython3",
   "version": "3.9.13"
  }
 },
 "nbformat": 4,
 "nbformat_minor": 5
}
