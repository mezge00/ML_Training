{
 "cells": [
  {
   "cell_type": "code",
   "execution_count": 21,
   "id": "f9a6a72e",
   "metadata": {},
   "outputs": [],
   "source": [
    "import tensorflow.compat.v1 as tf\n",
    "tf.disable_v2_behavior()"
   ]
  },
  {
   "cell_type": "code",
   "execution_count": 22,
   "id": "ee356d3b",
   "metadata": {},
   "outputs": [],
   "source": [
    "mnist = tf.keras.datasets.mnist\n",
    "(x_train, y_train), (x_test, y_test) = mnist.load_data()"
   ]
  },
  {
   "cell_type": "code",
   "execution_count": 23,
   "id": "93278b38",
   "metadata": {},
   "outputs": [],
   "source": [
    "n_nodes_hl1=500\n",
    "n_nodes_hl2=500\n",
    "n_nodes_hl3=500\n",
    "n_classes=10\n",
    "batch_size=100\n",
    "x=tf.placeholder('float',[None,784])\n",
    "y=tf.placeholder('float')"
   ]
  },
  {
   "cell_type": "code",
   "execution_count": 24,
   "id": "db5bd26a",
   "metadata": {},
   "outputs": [],
   "source": [
    "def neural_network_model(data):\n",
    "    hidden__1_layer={'weigths':tf.Variable(tf.random_normal([784,n_nodes_hl1])),\n",
    "                    'biases':tf.Varaible(tf.random_normal(n_nodes_hl1))}\n",
    "    hidden__2_layer={'weigths':tf.Variable(tf.random_normal([n_nodes_hl1,n_nodes_hl2])),\n",
    "                'biases':tf.Varaible(tf.random_normal(n_nodes_hl2))}\n",
    "    \n",
    "    hidden__3_layer={'weigths':tf.Variable(tf.random_normal([n_nodes_hl2,n_nodes_hl3])),\n",
    "                    'biases':tf.Varaible(tf.random_normal(n_nodes_hl3))}\n",
    "    output_layer={'weigths':tf.Variable(tf.random_normal([n_nodes_hl3,n_classes])),\n",
    "                'biases':tf.Varaible(tf.random_normal(n_classes))}\n",
    "    l1=tf.add(tf.matmul(data,hidden__1_layer['weights'])+hidden__1_layer['biases'])\n",
    "    l1=tf.nn.relu(l1)\n",
    "    l2=tf.add(tf.matmul(l1,hidden__2_layer['weights'])+hidden__2_layer['biases'])\n",
    "    l2=tf.nn.relu(l2)\n",
    "    l3=tf.add(tf.matmul(l2,hidden__3_layer['weights'])+hidden__3_layer['biases'])\n",
    "    l3=tf.nn.relu(l3)\n",
    "    output=tf.matmul(l3,output_layer['weights'])+output_layer['biases']\n",
    "    output=tf.nn.relu(output)\n",
    "    return output"
   ]
  },
  {
   "cell_type": "code",
   "execution_count": 25,
   "id": "a30c2569",
   "metadata": {},
   "outputs": [
    {
     "ename": "AttributeError",
     "evalue": "module 'tensorflow.compat.v1' has no attribute 'Varaible'",
     "output_type": "error",
     "traceback": [
      "\u001b[1;31m---------------------------------------------------------------------------\u001b[0m",
      "\u001b[1;31mAttributeError\u001b[0m                            Traceback (most recent call last)",
      "\u001b[1;32m~\\AppData\\Local\\Temp\\ipykernel_11404\\3463385122.py\u001b[0m in \u001b[0;36m<module>\u001b[1;34m\u001b[0m\n\u001b[1;32m----> 1\u001b[1;33m \u001b[0mneural_network_model\u001b[0m\u001b[1;33m(\u001b[0m\u001b[0mmnist\u001b[0m\u001b[1;33m)\u001b[0m\u001b[1;33m\u001b[0m\u001b[1;33m\u001b[0m\u001b[0m\n\u001b[0m",
      "\u001b[1;32m~\\AppData\\Local\\Temp\\ipykernel_11404\\1783075335.py\u001b[0m in \u001b[0;36mneural_network_model\u001b[1;34m(data)\u001b[0m\n\u001b[0;32m      1\u001b[0m \u001b[1;32mdef\u001b[0m \u001b[0mneural_network_model\u001b[0m\u001b[1;33m(\u001b[0m\u001b[0mdata\u001b[0m\u001b[1;33m)\u001b[0m\u001b[1;33m:\u001b[0m\u001b[1;33m\u001b[0m\u001b[1;33m\u001b[0m\u001b[0m\n\u001b[0;32m      2\u001b[0m     hidden__1_layer={'weigths':tf.Variable(tf.random_normal([784,n_nodes_hl1])),\n\u001b[1;32m----> 3\u001b[1;33m                     'biases':tf.Varaible(tf.random_normal(n_nodes_hl1))}\n\u001b[0m\u001b[0;32m      4\u001b[0m     hidden__2_layer={'weigths':tf.Variable(tf.random_normal([n_nodes_hl1,n_nodes_hl2])),\n\u001b[0;32m      5\u001b[0m                 'biases':tf.Varaible(tf.random_normal(n_nodes_hl2))}\n",
      "\u001b[1;31mAttributeError\u001b[0m: module 'tensorflow.compat.v1' has no attribute 'Varaible'"
     ]
    }
   ],
   "source": [
    "neural_network_model(mnist)"
   ]
  },
  {
   "cell_type": "code",
   "execution_count": null,
   "id": "2bd17304",
   "metadata": {},
   "outputs": [],
   "source": []
  }
 ],
 "metadata": {
  "kernelspec": {
   "display_name": "Python 3 (ipykernel)",
   "language": "python",
   "name": "python3"
  },
  "language_info": {
   "codemirror_mode": {
    "name": "ipython",
    "version": 3
   },
   "file_extension": ".py",
   "mimetype": "text/x-python",
   "name": "python",
   "nbconvert_exporter": "python",
   "pygments_lexer": "ipython3",
   "version": "3.9.13"
  }
 },
 "nbformat": 4,
 "nbformat_minor": 5
}
