{
 "cells": [
  {
   "cell_type": "code",
   "execution_count": 2,
   "id": "487b213d",
   "metadata": {},
   "outputs": [],
   "source": [
    "import numpy as np\n",
    "import matplotlib.pyplot as plt\n",
    "from matplotlib.pyplot import style\n",
    "style.use('ggplot')\n"
   ]
  },
  {
   "cell_type": "code",
   "execution_count": 3,
   "id": "88122714",
   "metadata": {},
   "outputs": [],
   "source": [
    "data_dict={-1:np.array([[1,7],[2,8],[3,8]]),\n",
    "           1:np.array([[5,1],[6,-1],[7,3]])}\n"
   ]
  },
  {
   "cell_type": "code",
   "execution_count": 4,
   "id": "4ffc8efe",
   "metadata": {},
   "outputs": [],
   "source": [
    "class Support_Vector_Machine:\n",
    "    def __init__(self, visualization=True):\n",
    "        self.visualization=visualization\n",
    "        self.colors={1:'r',-1:'b'}\n",
    "        if self.visualization:\n",
    "            self.fig=plt.figure()\n",
    "            self.ax=self.fig.add_subplot(1,1,1)\n",
    "    # Optimization Section or training section \n",
    "    def fit(self,data):\n",
    "        self.data=data\n",
    "        # we can store the ||w||:[w,b]\n",
    "        opt_dict={}\n",
    "        transforms=[[1,1],[-1,1],[-1,-1],[1,-1]]\n",
    "        all_data=[]\n",
    "         # The ulitmate goal here is to get \n",
    "            #the maximun and minimum value \n",
    "        for yi in self.data:\n",
    "            for featureset in self.data[yi]:\n",
    "                for feature in featureset:\n",
    "                    all_data.append(feature)\n",
    "        self.max_feature_value=max(all_data)\n",
    "        self.min_feature_value=min(all_data)\n",
    "        all_data=None\n",
    "        step_sizes=[self.max_feature_value*0.1,\n",
    "                    self.max_feature_value*0.01,\n",
    "                     #point of expense\n",
    "                    self.max_feature_value*0.001,]\n",
    "                    #point of expense\n",
    "\n",
    "        #bias, assume it is extremly expensive\n",
    "        b_range_multiple=5\n",
    "        \n",
    "        b_multiple=5\n",
    "        \n",
    "        latest_optimum=self.max_feature_value*10\n",
    "        for step in step_sizes:\n",
    "            w=np.array([latest_optimum,latest_optimum])\n",
    "            #Using convex we can do it\n",
    "            optimized=False\n",
    "            while not optimized:\n",
    "                for b in np.arange(-1*(self.max_feature_value*b_range_multiple),\n",
    "                                   (self.max_feature_value*b_range_multiple),\n",
    "                                   step*b_multiple):\n",
    "                    for transformation in transforms:\n",
    "                        w_t=w*transformation\n",
    "                        found_option=True\n",
    "                        #yi(xi.w+b)>=1\n",
    "                        #SMO is better here while SVM is still problem\n",
    "                        for i in self.data:\n",
    "                            for xi in self.data[i]:\n",
    "                                yi=i\n",
    "                                if not yi*(np.dot(w_t,xi)+b)>=1:\n",
    "                                    found_option=False\n",
    "                        if found_option:\n",
    "                            opt_dict[np.linalg.norm(w_t)]=[w_t,b]\n",
    "                if w[0]<0:\n",
    "                    optimized=True\n",
    "                    print('Optimized a step')\n",
    "                else:\n",
    "                    w=w-step\n",
    "            norms=sorted([n for n in opt_dict])\n",
    "            opt_choice=opt_dict[norms[0]]\n",
    "            self.w=opt_choice[0]\n",
    "            self.b=opt_choice[1]\n",
    "            latest_optimum=opt_choice[0][0]+step*2\n",
    "        for i in self.data:\n",
    "            for xi in self.data[i]:\n",
    "                yi=i\n",
    "                print(xi,':',yi*yi*(np.dot(self.w,xi)+self.b))\n",
    "\n",
    "\n",
    "        \n",
    "    def predict(self,features):\n",
    "        #sign (x.w+b)\n",
    "        classification=np.sign(np.dot(np.array(features),self.w)+self.b)\n",
    "        if classification !=0 and self.visualization:\n",
    "            self.ax.scatter(features[0],features[1],s=200,marker='*',c=self.colors[classification])\n",
    "        return classification\n",
    "    def visualize(self):\n",
    "        \n",
    "        [[self.ax.scatter(x[0],x[1],s=100,color=self.colors[i]) for x in data_dict[i]]for i in data_dict]\n",
    "       # hyperplane=x.w+b\n",
    "       #v=x.w+b\n",
    "        \n",
    "        def hyperplane(x,w,b,v):\n",
    "            return (-w[0]*x-b+v)/w[1]\n",
    "        datarange=(self.min_feature_value*0.9,self.max_feature_value*1.1)\n",
    "        hyp_x_min=datarange[0]\n",
    "        hyp_x_max=datarange[1]\n",
    "        \n",
    "        #(w.x+b)=1\n",
    "        # positive support vector hyperplane\n",
    "        \n",
    "        psv1=hyperplane(hyp_x_min,self.w,self.b,1)\n",
    "        psv2=hyperplane(hyp_x_max,self.w,self.b,1)\n",
    "        self.ax.plot([hyp_x_min,hyp_x_max],[psv1,psv2],'k')\n",
    "        \n",
    "        \n",
    "         #(w.x+b)=-1\n",
    "        # positive support vector hyperplane\n",
    "        \n",
    "        nsv1=hyperplane(hyp_x_min,self.w,self.b,-1)\n",
    "        nsv2=hyperplane(hyp_x_max,self.w,self.b,-1)\n",
    "        self.ax.plot([hyp_x_min,hyp_x_max],[nsv1,nsv2],'k')\n",
    "        \n",
    "        \n",
    "         #(w.x+b)=0\n",
    "        # positive support vector hyperplane\n",
    "        \n",
    "        db1=hyperplane(hyp_x_min,self.w,self.b,0)\n",
    "        db2=hyperplane(hyp_x_max,self.w,self.b,0)\n",
    "        self.ax.plot([hyp_x_min,hyp_x_max],[db1,db2],'y--')\n",
    "        \n",
    "        plt.show()\n",
    "        \n",
    "        \n",
    "        \n",
    "        \n",
    "        \n",
    "        "
   ]
  },
  {
   "cell_type": "code",
   "execution_count": 5,
   "id": "46565045",
   "metadata": {
    "scrolled": true
   },
   "outputs": [
    {
     "name": "stdout",
     "output_type": "stream",
     "text": [
      " the max value from the list is 8 and the minimum value is -1\n"
     ]
    }
   ],
   "source": [
    "all_data=[]\n",
    "for yi in data_dict:\n",
    "    for featureset in data_dict[yi]:\n",
    "        for feature in featureset:\n",
    "            all_data.append(feature)\n",
    "max_feature_value=max(all_data)\n",
    "min_feature_value=min(all_data)\n",
    "print(f' the max value from the list is {max_feature_value} and the minimum value is {min_feature_value}')"
   ]
  },
  {
   "cell_type": "code",
   "execution_count": 6,
   "id": "7e1df3e0",
   "metadata": {
    "scrolled": true
   },
   "outputs": [
    {
     "name": "stdout",
     "output_type": "stream",
     "text": [
      "Optimized a step\n",
      "Optimized a step\n",
      "Optimized a step\n",
      "[1 7] : -1.2239999999999465\n",
      "[2 8] : -1.2239999999999465\n",
      "[3 8] : -1.000000000000098\n",
      "[5 1] : 1.015999999998539\n",
      "[ 6 -1] : 1.6879999999980846\n",
      "[7 3] : 1.015999999998539\n"
     ]
    },
    {
     "data": {
      "image/png": "[encoded data removed]",
      "text/plain": [
       "<Figure size 640x480 with 1 Axes>"
      ]
     },
     "metadata": {},
     "output_type": "display_data"
    }
   ],
   "source": [
    "svm=Support_Vector_Machine()\n",
    "svm.fit(data=data_dict)\n",
    "predict_these=[[2,3],[1,2],[4,1],[2,1],[6,2],[4,3]]\n",
    "for p in predict_these:\n",
    "    svm.predict(p)\n",
    "svm.visualize()"
   ]
  },
  {
   "cell_type": "code",
   "execution_count": 15,
   "id": "ce04eb70",
   "metadata": {},
   "outputs": [],
   "source": []
  },
  {
   "cell_type": "code",
   "execution_count": 16,
   "id": "37ede8a6",
   "metadata": {},
   "outputs": [],
   "source": []
  },
  {
   "cell_type": "code",
   "execution_count": 7,
   "id": "a3a99e25",
   "metadata": {},
   "outputs": [],
   "source": [
    "svm.visualize()"
   ]
  },
  {
   "cell_type": "code",
   "execution_count": null,
   "id": "b5e674fa",
   "metadata": {},
   "outputs": [],
   "source": []
  }
 ],
 "metadata": {
  "kernelspec": {
   "display_name": "Python 3 (ipykernel)",
   "language": "python",
   "name": "python3"
  },
  "language_info": {
   "codemirror_mode": {
    "name": "ipython",
    "version": 3
   },
   "file_extension": ".py",
   "mimetype": "text/x-python",
   "name": "python",
   "nbconvert_exporter": "python",
   "pygments_lexer": "ipython3",
   "version": "3.9.13"
  }
 },
 "nbformat": 4,
 "nbformat_minor": 5
}
